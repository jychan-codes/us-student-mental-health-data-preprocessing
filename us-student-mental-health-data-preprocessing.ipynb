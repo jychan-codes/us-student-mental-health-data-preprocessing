{
 "cells": [
  {
   "cell_type": "code",
   "execution_count": 1,
   "id": "1f5f2c83",
   "metadata": {},
   "outputs": [],
   "source": [
    "import pandas as pd\n",
    "import numpy as np\n",
    "import matplotlib.pyplot as plt\n",
    "import seaborn as sns"
   ]
  },
  {
   "cell_type": "code",
   "execution_count": 2,
   "id": "f1069f5f",
   "metadata": {},
   "outputs": [],
   "source": [
    "# Load dataset\n",
    "df = pd.read_csv('anxiety.csv', encoding='latin1')"
   ]
  },
  {
   "cell_type": "code",
   "execution_count": 3,
   "id": "0afeb39b",
   "metadata": {},
   "outputs": [
    {
     "name": "stdout",
     "output_type": "stream",
     "text": [
      "   S. No.    Timestamp  GAD1  GAD2  GAD3  GAD4  GAD5  GAD6  GAD7  \\\n",
      "0       1  42052.00437     0     0     0     0     1     0     0   \n",
      "1       2  42052.00680     1     2     2     2     0     1     0   \n",
      "2       3  42052.03860     0     2     2     0     0     3     1   \n",
      "3       4  42052.06804     0     0     0     0     0     0     0   \n",
      "4       5  42052.08948     2     1     2     2     2     3     2   \n",
      "\n",
      "                   GADE  ...  Birthplace    Residence  Reference  \\\n",
      "0  Not difficult at all  ...         USA          USA     Reddit   \n",
      "1    Somewhat difficult  ...         USA          USA     Reddit   \n",
      "2  Not difficult at all  ...     Germany      Germany     Reddit   \n",
      "3  Not difficult at all  ...         USA          USA     Reddit   \n",
      "4        Very difficult  ...         USA  South Korea     Reddit   \n",
      "\n",
      "                                           Playstyle  accept GAD_T SWL_T  \\\n",
      "0                                       Singleplayer  Accept     1    23   \n",
      "1              Multiplayer - online - with strangers  Accept     8    16   \n",
      "2                                       Singleplayer  Accept     8    17   \n",
      "3  Multiplayer - online - with online acquaintanc...  Accept     0    17   \n",
      "4              Multiplayer - online - with strangers  Accept    14    14   \n",
      "\n",
      "   SPIN_T Residence_ISO3 Birthplace_ISO3  \n",
      "0     5.0            USA             USA  \n",
      "1    33.0            USA             USA  \n",
      "2    31.0            DEU             DEU  \n",
      "3    11.0            USA             USA  \n",
      "4    13.0            KOR             USA  \n",
      "\n",
      "[5 rows x 55 columns]\n"
     ]
    }
   ],
   "source": [
    "# Display the first 5 rows of dataset\n",
    "print(df.head())"
   ]
  },
  {
   "cell_type": "code",
   "execution_count": 4,
   "id": "0a09ed2a",
   "metadata": {},
   "outputs": [
    {
     "name": "stdout",
     "output_type": "stream",
     "text": [
      "GADE                 649\n",
      "Hours                 30\n",
      "League              1838\n",
      "highestleague      13464\n",
      "streams              100\n",
      "SPIN1                124\n",
      "SPIN2                154\n",
      "SPIN3                140\n",
      "SPIN4                159\n",
      "SPIN5                166\n",
      "SPIN6                156\n",
      "SPIN7                138\n",
      "SPIN8                144\n",
      "SPIN9                158\n",
      "SPIN10               160\n",
      "SPIN11               187\n",
      "SPIN12               168\n",
      "SPIN13               187\n",
      "SPIN14               156\n",
      "SPIN15               147\n",
      "SPIN16               147\n",
      "SPIN17               175\n",
      "Narcissism            23\n",
      "Work                  38\n",
      "Reference             15\n",
      "accept               414\n",
      "SPIN_T               650\n",
      "Residence_ISO3       110\n",
      "Birthplace_ISO3      121\n",
      "dtype: int64\n"
     ]
    }
   ],
   "source": [
    "# Check for missing values in each column\n",
    "missing_values = df.isnull().sum()\n",
    "\n",
    "# Create a new DataFrame with custom column titles\n",
    "missing_df = pd.DataFrame({'Attribute': missing_values.index, 'Missing Value Count': missing_values.values})\n",
    "\n",
    "# Display the columns with missing values (if any) and the count of missing values in each\n",
    "print(missing_values[missing_values > 0])"
   ]
  },
  {
   "cell_type": "code",
   "execution_count": 5,
   "id": "4d8fd140",
   "metadata": {},
   "outputs": [],
   "source": [
    "# Drop rows with missing values (NaN)\n",
    "df_cleaned = df.dropna()\n",
    "\n",
    "# Now df_cleaned contains the DataFrame with missing values dropped"
   ]
  },
  {
   "cell_type": "code",
   "execution_count": 8,
   "id": "b88781ca",
   "metadata": {},
   "outputs": [
    {
     "name": "stdout",
     "output_type": "stream",
     "text": [
      "S. No.             0.0\n",
      "Timestamp          0.0\n",
      "GAD1               0.0\n",
      "GAD2               0.0\n",
      "GAD3               0.0\n",
      "GAD4               0.0\n",
      "GAD5               0.0\n",
      "GAD6               0.0\n",
      "GAD7               0.0\n",
      "GADE               0.0\n",
      "SWL1               0.0\n",
      "SWL2               0.0\n",
      "SWL3               0.0\n",
      "SWL4               0.0\n",
      "SWL5               0.0\n",
      "Game               0.0\n",
      "Platform           0.0\n",
      "Hours              0.0\n",
      "earnings           0.0\n",
      "whyplay            0.0\n",
      "League             0.0\n",
      "highestleague      0.0\n",
      "streams            0.0\n",
      "SPIN1              0.0\n",
      "SPIN2              0.0\n",
      "SPIN3              0.0\n",
      "SPIN4              0.0\n",
      "SPIN5              0.0\n",
      "SPIN6              0.0\n",
      "SPIN7              0.0\n",
      "SPIN8              0.0\n",
      "SPIN9              0.0\n",
      "SPIN10             0.0\n",
      "SPIN11             0.0\n",
      "SPIN12             0.0\n",
      "SPIN13             0.0\n",
      "SPIN14             0.0\n",
      "SPIN15             0.0\n",
      "SPIN16             0.0\n",
      "SPIN17             0.0\n",
      "Narcissism         0.0\n",
      "Gender             0.0\n",
      "Age                0.0\n",
      "Work               0.0\n",
      "Degree             0.0\n",
      "Birthplace         0.0\n",
      "Residence          0.0\n",
      "Reference          0.0\n",
      "Playstyle          0.0\n",
      "accept             0.0\n",
      "GAD_T              0.0\n",
      "SWL_T              0.0\n",
      "SPIN_T             0.0\n",
      "Residence_ISO3     0.0\n",
      "Birthplace_ISO3    0.0\n",
      "dtype: float64\n"
     ]
    }
   ],
   "source": [
    "# Check for missing values in each column\n",
    "missing_values = df_cleaned.isna().sum()\n",
    "\n",
    "# Display the count of missing values in each column\n",
    "print(missing_values)\n"
   ]
  },
  {
   "cell_type": "code",
   "execution_count": 9,
   "id": "f433eba4",
   "metadata": {},
   "outputs": [],
   "source": [
    "# Rename columns\n",
    "df.rename(columns={'S. No.': 'Student.No', 'Work': 'Employment_Status', 'Degree': 'Education_Level', 'GAD_T': 'Generalized_Anxiety_Disorder_Scores', 'SWL_T': 'Satisfaction_With_Life_Scale_Scores', 'SPIN_T': 'Social_Phobia_Inventory_Scores', 'Residence_ISO3': 'Place_of_Residence', 'Birthplace_ISO3': 'Birthplace'}, inplace=True)"
   ]
  },
  {
   "cell_type": "code",
   "execution_count": 10,
   "id": "d01db6fd",
   "metadata": {},
   "outputs": [],
   "source": [
    "# List of columns to drop\n",
    "columns_to_drop = ['earnings', 'League', 'highestleague', 'streams', 'Reference', 'accept']\n",
    "\n",
    "# Drop the specified columns\n",
    "df.drop(columns=columns_to_drop, inplace=True)"
   ]
  },
  {
   "cell_type": "code",
   "execution_count": 11,
   "id": "74edd8bd",
   "metadata": {},
   "outputs": [
    {
     "name": "stdout",
     "output_type": "stream",
     "text": [
      "Index(['Student.No', 'Timestamp', 'GAD1', 'GAD2', 'GAD3', 'GAD4', 'GAD5',\n",
      "       'GAD6', 'GAD7', 'GADE', 'SWL1', 'SWL2', 'SWL3', 'SWL4', 'SWL5', 'Game',\n",
      "       'Platform', 'Hours', 'whyplay', 'SPIN1', 'SPIN2', 'SPIN3', 'SPIN4',\n",
      "       'SPIN5', 'SPIN6', 'SPIN7', 'SPIN8', 'SPIN9', 'SPIN10', 'SPIN11',\n",
      "       'SPIN12', 'SPIN13', 'SPIN14', 'SPIN15', 'SPIN16', 'SPIN17',\n",
      "       'Narcissism', 'Gender', 'Age', 'Employment_Status', 'Education_Level',\n",
      "       'Birthplace', 'Residence', 'Playstyle',\n",
      "       'Generalized_Anxiety_Disorder_Scores',\n",
      "       'Satisfaction_With_Life_Scale_Scores', 'Social_Phobia_Inventory_Scores',\n",
      "       'Place_of_Residence', 'Birthplace'],\n",
      "      dtype='object')\n"
     ]
    }
   ],
   "source": [
    "attributes = df.columns\n",
    "print(attributes)"
   ]
  },
  {
   "cell_type": "code",
   "execution_count": 12,
   "id": "70ef9416",
   "metadata": {
    "scrolled": false
   },
   "outputs": [
    {
     "name": "stdout",
     "output_type": "stream",
     "text": [
      "<bound method NDFrame.describe of        Student.No    Timestamp  GAD1  GAD2  GAD3  GAD4  GAD5  GAD6  GAD7  \\\n",
      "0               1  42052.00437     0     0     0     0     1     0     0   \n",
      "1               2  42052.00680     1     2     2     2     0     1     0   \n",
      "2               3  42052.03860     0     2     2     0     0     3     1   \n",
      "3               4  42052.06804     0     0     0     0     0     0     0   \n",
      "4               5  42052.08948     2     1     2     2     2     3     2   \n",
      "...           ...          ...   ...   ...   ...   ...   ...   ...   ...   \n",
      "13459       14246  42057.75678     1     0     0     1     0     1     1   \n",
      "13460       14247  42057.81185     3     3     3     3     2     3     3   \n",
      "13461       14248  42058.16964     0     0     0     0     0     0     0   \n",
      "13462       14249  42058.24420     3     2     1     3     0     1     3   \n",
      "13463       14250  42058.36375     1     1     0     0     0     0     0   \n",
      "\n",
      "                       GADE  ...                Employment_Status  \\\n",
      "0      Not difficult at all  ...        Unemployed / between jobs   \n",
      "1        Somewhat difficult  ...        Unemployed / between jobs   \n",
      "2      Not difficult at all  ...                         Employed   \n",
      "3      Not difficult at all  ...                         Employed   \n",
      "4            Very difficult  ...                         Employed   \n",
      "...                     ...  ...                              ...   \n",
      "13459  Not difficult at all  ...  Student at college / university   \n",
      "13460   Extremely difficult  ...  Student at college / university   \n",
      "13461  Not difficult at all  ...  Student at college / university   \n",
      "13462    Somewhat difficult  ...                Student at school   \n",
      "13463    Somewhat difficult  ...  Student at college / university   \n",
      "\n",
      "                           Education_Level  Birthplace    Residence  \\\n",
      "0                 Bachelor (or equivalent)         USA          USA   \n",
      "1                 Bachelor (or equivalent)         USA          USA   \n",
      "2                 Bachelor (or equivalent)     Germany      Germany   \n",
      "3                 Bachelor (or equivalent)         USA          USA   \n",
      "4      High school diploma (or equivalent)         USA  South Korea   \n",
      "...                                    ...         ...          ...   \n",
      "13459               Master (or equivalent)      France       France   \n",
      "13460  High school diploma (or equivalent)         USA          USA   \n",
      "13461  High school diploma (or equivalent)      Norway       Norway   \n",
      "13462  High school diploma (or equivalent)      Canada       Canada   \n",
      "13463  High school diploma (or equivalent)      Canada       Canada   \n",
      "\n",
      "                                               Playstyle  \\\n",
      "0                                           Singleplayer   \n",
      "1                  Multiplayer - online - with strangers   \n",
      "2                                           Singleplayer   \n",
      "3      Multiplayer - online - with online acquaintanc...   \n",
      "4                  Multiplayer - online - with strangers   \n",
      "...                                                  ...   \n",
      "13459              Multiplayer - online - with strangers   \n",
      "13460              Multiplayer - online - with strangers   \n",
      "13461      Multiplayer - online - with real life friends   \n",
      "13462                                       Singleplayer   \n",
      "13463              Multiplayer - online - with strangers   \n",
      "\n",
      "      Generalized_Anxiety_Disorder_Scores Satisfaction_With_Life_Scale_Scores  \\\n",
      "0                                       1                                  23   \n",
      "1                                       8                                  16   \n",
      "2                                       8                                  17   \n",
      "3                                       0                                  17   \n",
      "4                                      14                                  14   \n",
      "...                                   ...                                 ...   \n",
      "13459                                   4                                  28   \n",
      "13460                                  20                                  23   \n",
      "13461                                   0                                  32   \n",
      "13462                                  13                                  16   \n",
      "13463                                   2                                  25   \n",
      "\n",
      "       Social_Phobia_Inventory_Scores Place_of_Residence  Birthplace  \n",
      "0                                 5.0                USA         USA  \n",
      "1                                33.0                USA         USA  \n",
      "2                                31.0                DEU         DEU  \n",
      "3                                11.0                USA         USA  \n",
      "4                                13.0                KOR         USA  \n",
      "...                               ...                ...         ...  \n",
      "13459                             7.0                FRA         FRA  \n",
      "13460                            25.0                USA         USA  \n",
      "13461                            10.0                NOR         NOR  \n",
      "13462                            32.0                CAN         CAN  \n",
      "13463                            14.0                CAN         CAN  \n",
      "\n",
      "[13464 rows x 49 columns]>\n"
     ]
    }
   ],
   "source": [
    "# EDA (Exploratory Data Analysis)\n",
    "# Summary Statistics\n",
    "summary_stats = df.describe\n",
    "\n",
    "# Display the summary statistics\n",
    "print(summary_stats)"
   ]
  },
  {
   "cell_type": "code",
   "execution_count": 13,
   "id": "07c864a3",
   "metadata": {},
   "outputs": [],
   "source": [
    "# Assuming 'cleaned_data.csv' is the desired file name for the exported data\n",
    "df.to_excel('latest-cleaned-anxiety-data.xlsx', index=False)"
   ]
  },
  {
   "cell_type": "code",
   "execution_count": null,
   "id": "c9e74e8a",
   "metadata": {},
   "outputs": [],
   "source": []
  }
 ],
 "metadata": {
  "kernelspec": {
   "display_name": "Python 3 (ipykernel)",
   "language": "python",
   "name": "python3"
  },
  "language_info": {
   "codemirror_mode": {
    "name": "ipython",
    "version": 3
   },
   "file_extension": ".py",
   "mimetype": "text/x-python",
   "name": "python",
   "nbconvert_exporter": "python",
   "pygments_lexer": "ipython3",
   "version": "3.9.13"
  }
 },
 "nbformat": 4,
 "nbformat_minor": 5
}
